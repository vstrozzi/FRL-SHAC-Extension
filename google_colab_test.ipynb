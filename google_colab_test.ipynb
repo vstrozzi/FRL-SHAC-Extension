{
  "cells": [
    {
      "cell_type": "markdown",
      "metadata": {
        "id": "k9WHeA-9kVDZ"
      },
      "source": [
        "# Testing FRL2024 Project\n",
        "\n"
      ]
    },
    {
      "cell_type": "code",
      "execution_count": null,
      "metadata": {
        "colab": {
          "base_uri": "https://localhost:8080/"
        },
        "id": "87zpEJUYamUf",
        "outputId": "e7b33f69-3bf1-4ed7-f652-3121120bcfbb"
      },
      "outputs": [],
      "source": [
        "!python --version"
      ]
    },
    {
      "cell_type": "code",
      "execution_count": null,
      "metadata": {
        "colab": {
          "base_uri": "https://localhost:8080/"
        },
        "id": "8Wk8FYAYgawF",
        "outputId": "8c260edb-7ab1-4906-b4d9-29e16005e08c"
      },
      "outputs": [],
      "source": [
        "# Check if GPU is present\n",
        "!nvidia-smi"
      ]
    },
    {
      "cell_type": "markdown",
      "metadata": {
        "id": "WjOMk5aKjR-V"
      },
      "source": [
        "# Setup Github and Dependencies"
      ]
    },
    {
      "cell_type": "code",
      "execution_count": null,
      "metadata": {
        "colab": {
          "base_uri": "https://localhost:8080/"
        },
        "id": "8V7I1yn-aTHW",
        "outputId": "6300c5a1-0ef2-49fa-8720-f337b2736059"
      },
      "outputs": [],
      "source": [
        "%cd /content/\n",
        "!rm -r FRL-SHAC-Extension"
      ]
    },
    {
      "cell_type": "code",
      "execution_count": null,
      "metadata": {
        "colab": {
          "base_uri": "https://localhost:8080/"
        },
        "id": "_dM0q7zQggip",
        "outputId": "27cae795-47de-495d-bc5b-3d2b6572ded4"
      },
      "outputs": [],
      "source": [
        "# Clone github directory\n",
        "!git clone https://github.com/vstrozzi/FRL-SHAC-Extension.git\n",
        "%cd FRL-SHAC-Extension"
      ]
    },
    {
      "cell_type": "code",
      "execution_count": null,
      "metadata": {
        "colab": {
          "base_uri": "https://localhost:8080/"
        },
        "id": "803N2dkLixox",
        "outputId": "0998900b-cdb4-48fd-ffc3-03b0f0cb970e"
      },
      "outputs": [],
      "source": [
        "%cd dflex\n",
        "!python -m build\n",
        "!pip install .\n",
        "!pip install -e .\n",
        "%cd .."
      ]
    },
    {
      "cell_type": "code",
      "execution_count": null,
      "metadata": {
        "colab": {
          "base_uri": "https://localhost:8080/"
        },
        "id": "9wBSrEn8j6Oi",
        "outputId": "e60c8b52-0bd8-4ffe-aee8-0a5b0f1eb5c7"
      },
      "outputs": [],
      "source": [
        "%cd externals/rl_games\n",
        "!python -m build\n",
        "!pip install .\n",
        "!pip install -e .\n",
        "%cd ../.."
      ]
    },
    {
      "cell_type": "code",
      "execution_count": null,
      "metadata": {
        "colab": {
          "base_uri": "https://localhost:8080/"
        },
        "id": "4X0XXnfVe8_D",
        "outputId": "f7240525-9dd5-44ba-e751-acf835a541e9"
      },
      "outputs": [],
      "source": [
        "!pip install urdfpy"
      ]
    },
    {
      "cell_type": "code",
      "execution_count": null,
      "metadata": {
        "colab": {
          "base_uri": "https://localhost:8080/"
        },
        "id": "6Kh2W5FPmLmZ",
        "outputId": "9bd61de7-1a2f-4476-eba1-3f8223b4b941"
      },
      "outputs": [],
      "source": [
        "# Need to fix dependencies\n",
        "!pip install --upgrade networkx"
      ]
    },
    {
      "cell_type": "code",
      "execution_count": null,
      "metadata": {
        "colab": {
          "base_uri": "https://localhost:8080/"
        },
        "id": "rV9FcD6fPN53",
        "outputId": "aed74b06-90bd-447a-edb8-dddc8aab51a5"
      },
      "outputs": [],
      "source": [
        "!pip install tensordict"
      ]
    },
    {
      "cell_type": "markdown",
      "metadata": {
        "id": "o31h7Nl-ncdf"
      },
      "source": [
        "# Test to see everything is fine"
      ]
    },
    {
      "cell_type": "code",
      "execution_count": null,
      "metadata": {
        "colab": {
          "base_uri": "https://localhost:8080/"
        },
        "id": "oM0LM23sjgic",
        "outputId": "31df1574-fe11-43e2-cc28-e4257419baf4"
      },
      "outputs": [],
      "source": [
        "%cd /content/FRL-SHAC-Extension/examples\n",
        "!python test_env.py --env AntEnv"
      ]
    },
    {
      "cell_type": "markdown",
      "metadata": {
        "id": "VmIB_kJVhwTX"
      },
      "source": [
        "# From here run examples"
      ]
    },
    {
      "cell_type": "code",
      "execution_count": null,
      "metadata": {
        "colab": {
          "base_uri": "https://localhost:8080/"
        },
        "id": "8BU4y63WhlvK",
        "outputId": "95a6b335-f822-4255-8261-5822e78966db"
      },
      "outputs": [],
      "source": [
        "# If needed reupload directory\n",
        "%cd /content/FRL-SHAC-Extension\n",
        "!git pull\n",
        "%cd /content/FRL-SHAC-Extension/examples"
      ]
    },
    {
      "cell_type": "markdown",
      "metadata": {
        "id": "oUl6FFL3AGov"
      },
      "source": [
        "# Run test"
      ]
    },
    {
      "cell_type": "code",
      "execution_count": null,
      "metadata": {
        "colab": {
          "base_uri": "https://localhost:8080/"
        },
        "id": "OyGLrXJ__uRd",
        "outputId": "c577d01f-c5a1-43cc-d3bb-a2e560f77185"
      },
      "outputs": [],
      "source": [
        "%cd /content/FRL-SHAC-Extension\n",
        "!git pull\n",
        "%cd /content/FRL-SHAC-Extension/examples\n",
        "!python train_script.py --env Ant --algo shac --num-seeds 1"
      ]
    },
    {
      "cell_type": "code",
      "execution_count": null,
      "metadata": {
        "colab": {
          "base_uri": "https://localhost:8080/"
        },
        "id": "bVoaufhyoQQp",
        "outputId": "294c432a-46ed-44ac-d56c-884bf66e3225"
      },
      "outputs": [],
      "source": [
        "# run Ant environment\n",
        "!python train_script.py --env Ant --algo shac_alpha_emp --num-seeds 1"
      ]
    },
    {
      "cell_type": "code",
      "execution_count": null,
      "metadata": {
        "colab": {
          "base_uri": "https://localhost:8080/"
        },
        "id": "4xHQ7TTU_xtS",
        "outputId": "6218b27b-454c-480c-f5cc-c15977f949a3"
      },
      "outputs": [],
      "source": [
        "# run SNUHumanoid environment with 5 seeds\n",
        "!python train_script.py --env SNUHumanoid --algo shac_alpha_emp --num-seeds 5"
      ]
    },
    {
      "cell_type": "code",
      "execution_count": null,
      "metadata": {
        "colab": {
          "base_uri": "https://localhost:8080/"
        },
        "id": "UIPhJtLkAkUS",
        "outputId": "22957f20-d97e-48a8-c66b-bedb3a954d4d"
      },
      "outputs": [],
      "source": [
        "# run Humanoid environment with 5 seeds\n",
        "!python train_script.py --env Humanoid --algo shac_alpha_emp --num-seeds 5"
      ]
    },
    {
      "cell_type": "code",
      "execution_count": null,
      "metadata": {
        "colab": {
          "base_uri": "https://localhost:8080/"
        },
        "id": "XP7IxLvt_-Cp",
        "outputId": "a4f6fc4f-d1e2-4189-cd7c-8d9ccc2dd4c2"
      },
      "outputs": [],
      "source": [
        "# run Hopper environment with 5 seeds\n",
        "!python train_script.py --env Hopper --algo shac_alpha_emp --num-seeds 5"
      ]
    }
  ],
  "metadata": {
    "accelerator": "GPU",
    "colab": {
      "gpuType": "T4",
      "provenance": []
    },
    "kernelspec": {
      "display_name": "Python 3",
      "name": "python3"
    },
    "language_info": {
      "name": "python"
    }
  },
  "nbformat": 4,
  "nbformat_minor": 0
}
